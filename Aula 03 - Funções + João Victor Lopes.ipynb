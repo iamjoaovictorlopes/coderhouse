{
 "cells": [
  {
   "cell_type": "markdown",
   "id": "d8d8f449",
   "metadata": {},
   "source": [
    "## 4 - Desafio Entregável"
   ]
  },
  {
   "cell_type": "markdown",
   "id": "3a3b2e99",
   "metadata": {},
   "source": [
    "### Calculadora Fatorial"
   ]
  },
  {
   "cell_type": "code",
   "execution_count": 22,
   "id": "44ff8f6d",
   "metadata": {},
   "outputs": [
    {
     "name": "stdout",
     "output_type": "stream",
     "text": [
      "Digite um número e em seguida iremos calcular seu fatorial! \n",
      "9\n",
      "O fatorial de 9 é 362880.\n"
     ]
    }
   ],
   "source": [
    "#Solicitação ao usuário para que digite um número para calcularmos seu fatorial.\n",
    "numero = int(input(\"Digite um número e em seguida iremos calcular seu fatorial! \\n\"))\n",
    "fatorial = 1 #para repetir o n-1\n",
    "contador = numero #contador até 1 repetição\n",
    "#Função que calcula o fatorial\n",
    "def calc_fatorial(numero, fatorial, contador):\n",
    "    while contador > 0:\n",
    "        fatorial = fatorial * contador\n",
    "        contador = contador-1\n",
    "    return print(\"O fatorial de {} é {}.\".format(numero,fatorial))\n",
    "calc_fatorial(numero, fatorial, contador)"
   ]
  },
  {
   "cell_type": "code",
   "execution_count": 23,
   "id": "7806a2a0",
   "metadata": {},
   "outputs": [
    {
     "name": "stdout",
     "output_type": "stream",
     "text": [
      "O fatorial de 5 é 120.\n"
     ]
    }
   ],
   "source": [
    "#Exemplo do código rodando com fatorial de 5\n",
    "numero = 5\n",
    "fatorial = 1 #para repetir o n-1\n",
    "contador = numero #contador até 1 repetição\n",
    "def calc_fatorial(numero, fatorial, contador):\n",
    "    while contador > 0:\n",
    "        fatorial = fatorial * contador\n",
    "        contador = contador-1\n",
    "    return print(\"O fatorial de {} é {}.\".format(numero,fatorial))\n",
    "calc_fatorial(numero, fatorial, contador)"
   ]
  },
  {
   "cell_type": "markdown",
   "id": "6bfb66ba",
   "metadata": {},
   "source": [
    "### Gerando séries de números e somando a sequência."
   ]
  },
  {
   "cell_type": "code",
   "execution_count": 24,
   "id": "ac94f17b",
   "metadata": {},
   "outputs": [
    {
     "name": "stdout",
     "output_type": "stream",
     "text": [
      "Digite a quantidade de números a serem somados! \n",
      "9\n",
      "A sequência será de 9 números. O próximo número sempre será maior que o anterior.\n",
      "Sequência:\n",
      "2\n",
      "5\n",
      "9\n",
      "14\n",
      "20\n",
      "27\n",
      "35\n",
      "44\n",
      "54\n"
     ]
    }
   ],
   "source": [
    "#Solicitação ao usuário para que defina quantos números sequenciais serão somados.\n",
    "serie = int(input(\"Digite a quantidade de números a serem somados! \\n\"))\n",
    "#Função que soma o próximo número na sequência.\n",
    "def soma_serie(serie):\n",
    "    soma = 0\n",
    "    print(\"A sequência será de {} números. O próximo número sempre será maior que o anterior.\".format(serie))\n",
    "    print(\"Sequência:\")\n",
    "    for i in range(1, serie+1):\n",
    "        soma = soma+i\n",
    "        print(soma+i)\n",
    "soma_serie(serie)"
   ]
  },
  {
   "cell_type": "code",
   "execution_count": 25,
   "id": "7132eb70",
   "metadata": {},
   "outputs": [
    {
     "name": "stdout",
     "output_type": "stream",
     "text": [
      "A sequência será de 5 números. O próximo número sempre será maior que o anterior.\n",
      "Sequência:\n",
      "2\n",
      "5\n",
      "9\n",
      "14\n",
      "20\n"
     ]
    }
   ],
   "source": [
    "#Exemplo rodando sequência de 5 números\n",
    "serie = 5\n",
    "def soma_serie(serie):\n",
    "    soma = 0\n",
    "    print(\"A sequência será de {} números. O próximo número sempre será maior que o anterior.\".format(serie))\n",
    "    print(\"Sequência:\")\n",
    "    for i in range(1, serie+1):\n",
    "        soma = soma+i\n",
    "        print(soma+i)\n",
    "soma_serie(serie)"
   ]
  },
  {
   "cell_type": "code",
   "execution_count": null,
   "id": "59a7410d",
   "metadata": {},
   "outputs": [],
   "source": []
  }
 ],
 "metadata": {
  "kernelspec": {
   "display_name": "Python 3 (ipykernel)",
   "language": "python",
   "name": "python3"
  },
  "language_info": {
   "codemirror_mode": {
    "name": "ipython",
    "version": 3
   },
   "file_extension": ".py",
   "mimetype": "text/x-python",
   "name": "python",
   "nbconvert_exporter": "python",
   "pygments_lexer": "ipython3",
   "version": "3.10.9"
  }
 },
 "nbformat": 4,
 "nbformat_minor": 5
}

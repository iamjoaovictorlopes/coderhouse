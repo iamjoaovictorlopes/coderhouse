{
 "cells": [
  {
   "cell_type": "markdown",
   "id": "d8e4a2ce",
   "metadata": {},
   "source": [
    "## Aula 5 - Desafio Entregável"
   ]
  },
  {
   "cell_type": "markdown",
   "id": "f4ab9474",
   "metadata": {},
   "source": [
    "### 1. Gerar um array aleatório de 100 elementos. Calcular a mediana correspondente"
   ]
  },
  {
   "cell_type": "code",
   "execution_count": 2,
   "id": "f09471d7",
   "metadata": {},
   "outputs": [],
   "source": [
    "#Importando a biblioteca numpy\n",
    "import numpy as np"
   ]
  },
  {
   "cell_type": "code",
   "execution_count": 109,
   "id": "8ca06e73",
   "metadata": {},
   "outputs": [
    {
     "name": "stdout",
     "output_type": "stream",
     "text": [
      "O array gerado é [0.83820171 0.40144737 0.99309754 0.90740501 0.84788394 0.46517359\n",
      " 0.31717044 0.37433546 0.86046143 0.86873407 0.03098765 0.81033276\n",
      " 0.56671426 0.56580468 0.87072446 0.68462216 0.33778954 0.59097821\n",
      " 0.439833   0.63607889 0.37566895 0.43263662 0.95798449 0.25626322\n",
      " 0.2567686  0.99682044 0.76040166 0.79406306 0.50604393 0.06473492\n",
      " 0.63704572 0.93778721 0.98067128 0.74649096 0.20230692 0.62729311\n",
      " 0.81937054 0.96634129 0.58937849 0.80178088 0.82206825 0.69233111\n",
      " 0.54420081 0.81500416 0.01918542 0.47208279 0.20077731 0.2385933\n",
      " 0.11669122 0.62771515 0.18049188 0.35621606 0.69067848 0.01528053\n",
      " 0.6475675  0.64096623 0.03453346 0.17504723 0.22965402 0.56324888\n",
      " 0.62396471 0.9894062  0.96909868 0.18228697 0.19101872 0.83259684\n",
      " 0.54278322 0.99487954 0.37061625 0.76661366 0.89771993 0.60443782\n",
      " 0.75460886 0.50539951 0.40276766 0.7562002  0.79896346 0.0492484\n",
      " 0.89618534 0.09979774 0.99815243 0.7401318  0.23824626 0.42197536\n",
      " 0.7067238  0.01498006 0.79363363 0.1103997  0.31091557 0.29501757\n",
      " 0.96010236 0.18150105 0.3260951  0.15260388 0.25438712 0.59056256\n",
      " 0.59000009 0.0880355  0.40823611 0.87607824] e a mediana é do array é 0.5896892894686938\n"
     ]
    }
   ],
   "source": [
    "#Criando o array\n",
    "array = np.random.random(100)\n",
    "#Calculando a mediana\n",
    "mediana = np.median(array)\n",
    "#Printando a mediana\n",
    "print(\"O array gerado é {} e a mediana é do array é {}\".format(array, mediana))"
   ]
  },
  {
   "cell_type": "markdown",
   "id": "bd450cbc",
   "metadata": {},
   "source": [
    "### 2. Repetir os dois exercícios do desafio entregável da aula 04"
   ]
  },
  {
   "cell_type": "markdown",
   "id": "547fe26c",
   "metadata": {},
   "source": [
    "### 1) Calculadora Fatorial"
   ]
  },
  {
   "cell_type": "code",
   "execution_count": 102,
   "id": "9b73aa4c",
   "metadata": {},
   "outputs": [],
   "source": [
    "#Utilizando np.random.randint para gerar um número aleatório entre 0 e 10."
   ]
  },
  {
   "cell_type": "code",
   "execution_count": 103,
   "id": "27ed597f",
   "metadata": {},
   "outputs": [
    {
     "name": "stdout",
     "output_type": "stream",
     "text": [
      "O número gerado foi 6\n"
     ]
    }
   ],
   "source": [
    "numero = np.random.randint(10)\n",
    "print(\"O número gerado foi {}\".format(numero))"
   ]
  },
  {
   "cell_type": "code",
   "execution_count": 104,
   "id": "5ca2379e",
   "metadata": {},
   "outputs": [],
   "source": [
    "#Utilizando np.math.factorial, nativo da própria biblioteca np, para calcular o fatorial de um número."
   ]
  },
  {
   "cell_type": "code",
   "execution_count": 107,
   "id": "9e7e603d",
   "metadata": {},
   "outputs": [
    {
     "name": "stdout",
     "output_type": "stream",
     "text": [
      "O fatorial do número gerado é 720\n"
     ]
    }
   ],
   "source": [
    "print(\"O fatorial do número gerado é {}\".format(np.math.factorial(numero)))"
   ]
  },
  {
   "cell_type": "markdown",
   "id": "2c142b15",
   "metadata": {},
   "source": [
    "### 2) Gerando séries de números e somando a sequência."
   ]
  },
  {
   "cell_type": "code",
   "execution_count": 112,
   "id": "887f1c71",
   "metadata": {},
   "outputs": [
    {
     "name": "stdout",
     "output_type": "stream",
     "text": [
      "Digite o tamanho da sequencia de números que você deseja10\n",
      "A sequência inicial foi definida como [ 1  2  3  4  5  6  7  8  9 10].\n",
      "O resultado da sequência somando o próximo número é:[ 1  3  6 10 15 21 28 36 45 55]\n"
     ]
    }
   ],
   "source": [
    "#Solicitação ao usuário para que defina a sequência de números a serem somados.\n",
    "n = int(input(\"Digite o tamanho da sequencia de números que você deseja\"))\n",
    "sequencia = np.arange(1, n+1)\n",
    "#Função que soma o próximo número na sequência.\n",
    "def soma_sequencial(n):\n",
    "    # Calcula a soma acumulativa da sequência\n",
    "    soma_acumulativa = np.cumsum(sequencia)\n",
    "    return print(\"A sequência inicial foi definida como {}.\\nO resultado da sequência somando o próximo número é:{}\".format(sequencia, soma_acumulativa))\n",
    "soma_sequencial(n)"
   ]
  },
  {
   "cell_type": "code",
   "execution_count": null,
   "id": "1830810c",
   "metadata": {},
   "outputs": [],
   "source": []
  }
 ],
 "metadata": {
  "kernelspec": {
   "display_name": "Python 3 (ipykernel)",
   "language": "python",
   "name": "python3"
  },
  "language_info": {
   "codemirror_mode": {
    "name": "ipython",
    "version": 3
   },
   "file_extension": ".py",
   "mimetype": "text/x-python",
   "name": "python",
   "nbconvert_exporter": "python",
   "pygments_lexer": "ipython3",
   "version": "3.10.9"
  }
 },
 "nbformat": 4,
 "nbformat_minor": 5
}
